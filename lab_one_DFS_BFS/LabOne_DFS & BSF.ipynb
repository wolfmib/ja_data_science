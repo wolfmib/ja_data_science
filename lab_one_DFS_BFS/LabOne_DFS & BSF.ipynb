{
 "cells": [
  {
   "cell_type": "markdown",
   "id": "7e6f5818-8fe0-492c-8ba2-5d2505f3a9c9",
   "metadata": {},
   "source": [
    "## DFS BSF Hello world\n",
    "---\n",
    "- related-document-link\n",
    "- [linkedin_article_link](https://www.linkedin.com/posts/johnny-hung-data-analytic-gaming-actuary_datascience-python-algorithms-activity-7189218694030344194-HsjN?utm_source=share&utm_medium=member_desktop)\n",
    "  \n"
   ]
  },
  {
   "cell_type": "markdown",
   "id": "cb9decfd-3cc2-4a4b-b861-469efbba616f",
   "metadata": {},
   "source": [
    "Example-Un: Depth-First Search (DFS) - Simple Example\n",
    "\n",
    "Graph Structure:\n",
    "- A is connected to B, C\n",
    "- B is connected to D, E\n",
    "- C is connected to F\n",
    "- D has no connections\n",
    "- E is also connected to F\n",
    "- F has no connections\n",
    "\n",
    "\n"
   ]
  },
  {
   "cell_type": "code",
   "execution_count": 12,
   "id": "9515b39b-10b1-431e-accf-aa160911c9b4",
   "metadata": {},
   "outputs": [
    {
     "name": "stdout",
     "output_type": "stream",
     "text": [
      "DFS visited note\n",
      "A B D E F C \n",
      "===== end of DFS hello world ======\n",
      "\n",
      "Explanation:\n",
      "This DFS implementation explores a graph recursively. Starting from a specified node, it visits all its directly connected neighbors before moving on to their neighbors. The function marks each visited node to avoid revisiting and loops through each unvisited neighbor by calling itself recursively. This simple example helps illustrate how DFS dives deep into the graph by following each path as far as it can before backtracking.\n",
      "\n",
      "\n",
      "\n"
     ]
    }
   ],
   "source": [
    "def dfs(graph, node, visited=None):\n",
    "    if visited is None:\n",
    "        visited = set()\n",
    "    visited.add(node)\n",
    "    print(node, end=' ')\n",
    "    for neighbor in graph[node]:\n",
    "        if neighbor not in visited:\n",
    "            dfs(graph, neighbor, visited)\n",
    "\n",
    "# Example graph represented as an adjacency list\n",
    "graph = {\n",
    "    'A': ['B', 'C'],\n",
    "    'B': ['D', 'E'],\n",
    "    'C': ['F'],\n",
    "    'D': [],\n",
    "    'E': ['F'],\n",
    "    'F': []\n",
    "}\n",
    "\n",
    "# Start DFS from node 'A'\n",
    "print(\"DFS visited note\")\n",
    "dfs(graph, 'A')\n",
    "print(\"\\n===== end of DFS hello world ======\")\n",
    "msg = \"\"\"\n",
    "Explanation:\n",
    "This DFS implementation explores a graph recursively. Starting from a specified node, it visits all its directly connected neighbors before moving on to their neighbors. The function marks each visited node to avoid revisiting and loops through each unvisited neighbor by calling itself recursively. This simple example helps illustrate how DFS dives deep into the graph by following each path as far as it can before backtracking.\n",
    "\n",
    "\n",
    "\"\"\"\n",
    "print(msg)"
   ]
  },
  {
   "cell_type": "code",
   "execution_count": null,
   "id": "a1f17907-7706-45f5-b295-80ac2cd56a2c",
   "metadata": {},
   "outputs": [],
   "source": []
  },
  {
   "cell_type": "markdown",
   "id": "51a407db-0485-491d-b901-d609d53c3b85",
   "metadata": {},
   "source": [
    "Example-Deux: Breadth-First Search (BFS) - Simple Example\\\n",
    "\\\n",
    "Graph Structure:\n",
    "- Node 'A' is the starting point and branches out to two nodes, 'B' and 'C'.\n",
    "- Node 'B' further branches out to two more nodes, 'D' and 'E'. Node 'D' is a leaf node with no further connections.\n",
    "- Node 'E' is also a leaf node without any additional branches.\n",
    "- Node 'C' extends to a single node 'F', which is also a leaf node with no further connections.\n",
    "\n"
   ]
  },
  {
   "cell_type": "code",
   "execution_count": 16,
   "id": "0b659540-7ae9-4082-986e-35e0b8860089",
   "metadata": {},
   "outputs": [
    {
     "name": "stdout",
     "output_type": "stream",
     "text": [
      "BFS (level by level) Search:\n",
      "A B C D E F \n",
      "===== end of BFS hello world ======\n",
      "\n",
      "\n",
      "Explanation:\n",
      "This BFS implementation uses a queue to explore the graph level by level. Starting from a specified node, it first enqueues all immediate neighbors, then de-queues a node to visit it, marking it as visited to prevent revisits. It continues by enqueuing all unvisited neighbors of each de-queued node. This process repeats, demonstrating how BFS explores all nodes at the present level before moving on to nodes at the next level, ensuring the shortest path discovery in unweighted graphs.\n",
      "\n",
      "These examples succinctly showcase the structural differences between DFS and BFS, emphasizing DFS's depth exploration strategy versus BFS's layer-by-layer exploration approach. You can share these as preliminary insights before delving into more complex applications, making it easier for your audience to grasp the advanced examples provided earlier.\n",
      "\n"
     ]
    }
   ],
   "source": [
    "from collections import deque\n",
    "\n",
    "def bfs(graph, start):\n",
    "    visited = set()\n",
    "    queue = deque([start])\n",
    "    while queue:\n",
    "        node = queue.popleft()\n",
    "        if node not in visited:\n",
    "            print(node, end=' ')\n",
    "            visited.add(node)\n",
    "            queue.extend([neighbor for neighbor in graph[node] if neighbor not in visited])\n",
    "\n",
    "# Example graph represented as an adjacency list\n",
    "graph = {\n",
    "    'A': ['B', 'C'],\n",
    "    'B': ['D', 'E'],\n",
    "    'C': ['F'],\n",
    "    'D': [],\n",
    "    'E': [],\n",
    "    'F': []\n",
    "}\n",
    "\n",
    "# Start BFS from node 'A'\n",
    "print(\"BFS (level by level) Search:\")\n",
    "bfs(graph, 'A')\n",
    "print(\"\\n===== end of BFS hello world ======\\n\")\n",
    "\n",
    "explain = \"\"\"\n",
    "Explanation:\n",
    "This BFS implementation uses a queue to explore the graph level by level. Starting from a specified node, it first enqueues all immediate neighbors, then de-queues a node to visit it, marking it as visited to prevent revisits. It continues by enqueuing all unvisited neighbors of each de-queued node. This process repeats, demonstrating how BFS explores all nodes at the present level before moving on to nodes at the next level, ensuring the shortest path discovery in unweighted graphs.\n",
    "\n",
    "These examples succinctly showcase the structural differences between DFS and BFS, emphasizing DFS's depth exploration strategy versus BFS's layer-by-layer exploration approach. You can share these as preliminary insights before delving into more complex applications, making it easier for your audience to grasp the advanced examples provided earlier.\n",
    "\"\"\"\n",
    "print(explain)\n"
   ]
  },
  {
   "cell_type": "code",
   "execution_count": null,
   "id": "a74dbdee-1df1-4a10-a090-1bb8878030ba",
   "metadata": {},
   "outputs": [],
   "source": []
  },
  {
   "cell_type": "markdown",
   "id": "4713b0a1-1c6a-40aa-9db3-51e84f1945ce",
   "metadata": {},
   "source": [
    "# Depth-First Search (DFS): Maze Solving Problem\n",
    "\n",
    "__Problem Description:__\n",
    "---\n",
    "Imagine you're tasked with designing a software that can find a path through a maze. The maze can be represented as a grid, where '0' indicates a passable cell and '1' indicates an impassable wall. The goal is to find a path from the top-left corner to the bottom-right corner using DFS."
   ]
  },
  {
   "cell_type": "code",
   "execution_count": 9,
   "id": "0eed774d-ae69-49af-8247-f581cd94bac6",
   "metadata": {},
   "outputs": [
    {
     "name": "stdout",
     "output_type": "stream",
     "text": [
      "Path to solve the maze: (row, col)\n",
      " [(0, 0), (1, 0), (2, 0), (2, 1), (2, 2), (2, 3), (2, 4), (3, 4), (4, 4)]\n",
      "\n",
      "===== end of DFS maze problem ======\n",
      "\n",
      "\n"
     ]
    }
   ],
   "source": [
    "def dfs_maze_solver(maze):\n",
    "    rows, cols = len(maze), len(maze[0])\n",
    "    path = []\n",
    "    visited = set()\n",
    "    \n",
    "    def dfs(r, c):\n",
    "        if (r, c) in visited or not (0 <= r < rows and 0 <= c < cols) or maze[r][c] == '1':\n",
    "            return False\n",
    "        visited.add((r, c))\n",
    "        path.append((r, c))\n",
    "        if r == rows - 1 and c == cols - 1:\n",
    "            return True\n",
    "        # Explore neighbors: down, right, up, left\n",
    "        if (dfs(r + 1, c) or dfs(r, c + 1) or dfs(r - 1, c) or dfs(r, c - 1)):\n",
    "            return True\n",
    "        path.pop()\n",
    "        return False\n",
    "    \n",
    "    dfs(0, 0)\n",
    "    return path\n",
    "\n",
    "# Example maze (0 = free, 1 = wall)\n",
    "maze = [\n",
    "    ['0', '1', '0', '0', '0'],\n",
    "    ['0', '1', '0', '1', '0'],\n",
    "    ['0', '0', '0', '0', '0'],\n",
    "    ['0', '1', '1', '1', '0'],\n",
    "    ['0', '0', '0', '1', '0']\n",
    "]\n",
    "solution_path = dfs_maze_solver(maze)\n",
    "print(\"Path to solve the maze: (row, col)\\n\", solution_path)\n",
    "print(\"\\n===== end of DFS maze problem ======\\n\\n\")"
   ]
  },
  {
   "cell_type": "markdown",
   "id": "3371ca6a-e35d-4793-920b-e8a203d19b2d",
   "metadata": {},
   "source": [
    "The `dfs_maze_solver` function is designed to find a path from the top-left corner to the bottom-right corner of a 2D maze. The maze is represented as a list of lists, where each sublist represents a row in the maze, and each element within a sublist represents a cell. In this representation, '0' denotes a passable cell, and '1' denotes an impassable wall.\n",
    "\n",
    "Here's a step-by-step explanation of the code:\n",
    "\n",
    "- `rows, cols`: Determine the size of the maze.\n",
    "- `path`: Initialize an empty list that will record the path taken to reach the end.\n",
    "- `visited`: Initialize a set to keep track of visited cells to avoid cycles.\n",
    "\n",
    "The `dfs` function is a nested helper function that performs the DFS algorithm:\n",
    "\n",
    "- The function takes two parameters, `r` and `c`, which represent the current row and column in the maze, respectively.\n",
    "- The function starts by checking whether the current cell is out of bounds, has been visited already, or is a wall. If any of these conditions is true, it returns `False`.\n",
    "- If the current cell is valid, it is added to both the `visited` set and the `path` list.\n",
    "- The base case checks if the current cell is the bottom-right corner of the maze (`rows - 1` and `cols - 1`). If we have reached this cell, we return `True` as we have found a path.\n",
    "- The function then recursively explores all four possible directions from the current cell: down, right, up, and left. The order of these directions can affect the actual path found but not the ability to find a path if one exists.\n",
    "- If none of these recursive calls return `True`, it means the current path did not lead to the exit, so the current cell is removed from the `path` list (backtracking), and the function returns `False`.\n",
    "\n",
    "Finally, the `dfs` function is called with the starting position (0, 0), and the `dfs_maze_solver` function returns the `path` list, which contains the sequence of coordinates from the start to the end of the maze, if such a path exists.\n"
   ]
  },
  {
   "cell_type": "code",
   "execution_count": null,
   "id": "cdcfc271-a1a7-4c32-a41d-ff71aacd10c4",
   "metadata": {},
   "outputs": [],
   "source": []
  },
  {
   "cell_type": "markdown",
   "id": "c840a685-5495-4c55-bc75-2a5a4d706a41",
   "metadata": {},
   "source": [
    "## Aoubt outside bound logic\n"
   ]
  },
  {
   "cell_type": "code",
   "execution_count": 21,
   "id": "39270010-8d38-41a7-b60b-ca71215f9cd8",
   "metadata": {},
   "outputs": [
    {
     "name": "stdout",
     "output_type": "stream",
     "text": [
      "The point (4, 4) is within the bounds.\n",
      "The point (-1, 2) is outside the bounds.\n",
      "The point (3, 5) is outside the bounds.\n",
      "The point (2, 2) is within the bounds.\n",
      "\n",
      "r must be between 0 and rows - 1, inclusive, and c must be between 0 and cols - 1, inclusive. If r or c is outside these ranges, the function should return False because the position is outside the maze.\n",
      "\n"
     ]
    }
   ],
   "source": [
    "def is_within_bounds(point, max_row, max_col):\n",
    "    r, c = point\n",
    "    if not (0 <= r < max_row and 0 <= c < max_col):\n",
    "        print(f\"The point {point} is outside the bounds.\")\n",
    "        return False\n",
    "    else:\n",
    "        print(f\"The point {point} is within the bounds.\")\n",
    "        return True\n",
    "\n",
    "# Define the dimensions of the area (similar to rows and cols in the maze)\n",
    "max_rows = 5\n",
    "max_cols = 5\n",
    "\n",
    "# Test points\n",
    "points = [(4, 4), (-1, 2), (3, 5), (2, 2)]\n",
    "\n",
    "for point in points:\n",
    "    is_within_bounds(point, max_rows, max_cols)\n",
    "\n",
    "explain = \"\"\"\n",
    "r must be between 0 and rows - 1, inclusive, and c must be between 0 and cols - 1, inclusive. If r or c is outside these ranges, the function should return False because the position is outside the maze.\n",
    "\"\"\"\n",
    "print(explain)\n"
   ]
  },
  {
   "cell_type": "code",
   "execution_count": null,
   "id": "8bd9cb47-2625-44a9-a0e5-6484ef0b6546",
   "metadata": {},
   "outputs": [],
   "source": []
  },
  {
   "cell_type": "code",
   "execution_count": null,
   "id": "170b3a01-3ce2-4de0-ac2f-35ce7c9288f9",
   "metadata": {},
   "outputs": [],
   "source": []
  },
  {
   "cell_type": "markdown",
   "id": "f0208c7a-a3b1-4a5d-8244-b7b3837d6925",
   "metadata": {},
   "source": [
    "# Breadth-First Search (BFS): Finding the Shortest Path in a Network\n",
    "\n",
    "__Problem Description:__\n",
    "---\n",
    "Suppose you need to design a tool to find the shortest communication path between two computers in a network. The network is represented as a graph where nodes represent computers and edges represent the connection between them. BFS is ideal for this scenario as it explores all neighbors at the present depth prior to moving on to nodes at the next depth level."
   ]
  },
  {
   "cell_type": "code",
   "execution_count": 39,
   "id": "96e4c5b3-616b-4f99-8156-b2075db6e0fb",
   "metadata": {},
   "outputs": [
    {
     "name": "stdout",
     "output_type": "stream",
     "text": [
      "Info[0] queue:deque([('A', ['A'])]) , visited:set()\n",
      "Info[1] ,current_note:A, current_path:['A'], remain_queue:deque([]) , visited:[]        \n",
      "Info[1] ,current_note:B, current_path:['A', 'B'], remain_queue:deque([('C', ['A', 'C'])]) , visited:['B', 'C']        \n",
      "Info[1] ,current_note:C, current_path:['A', 'C'], remain_queue:deque([('D', ['A', 'B', 'D']), ('E', ['A', 'B', 'E'])]) , visited:['B', 'C', 'D', 'E']        \n",
      "Info[1] ,current_note:D, current_path:['A', 'B', 'D'], remain_queue:deque([('E', ['A', 'B', 'E']), ('F', ['A', 'C', 'F']), ('G', ['A', 'C', 'G'])]) , visited:['B', 'C', 'D', 'E', 'F', 'G']        \n",
      "Info[1] ,current_note:E, current_path:['A', 'B', 'E'], remain_queue:deque([('F', ['A', 'C', 'F']), ('G', ['A', 'C', 'G']), ('H', ['A', 'B', 'D', 'H'])]) , visited:['B', 'C', 'D', 'E', 'F', 'G', 'H']        \n",
      "Info[1] ,current_note:F, current_path:['A', 'C', 'F'], remain_queue:deque([('G', ['A', 'C', 'G']), ('H', ['A', 'B', 'D', 'H'])]) , visited:['B', 'C', 'D', 'E', 'F', 'G', 'H']        \n",
      "Info[1] ,current_note:G, current_path:['A', 'C', 'G'], remain_queue:deque([('H', ['A', 'B', 'D', 'H'])]) , visited:['B', 'C', 'D', 'E', 'F', 'G', 'H']        \n",
      "Info[1] ,current_note:H, current_path:['A', 'B', 'D', 'H'], remain_queue:deque([]) , visited:['B', 'C', 'D', 'E', 'F', 'G', 'H']        \n",
      "\n",
      "\n",
      "Shortest path from node A to H:\n",
      " ['A', 'B', 'D', 'H']\n",
      "\n",
      "===== end of BFS shortest-path problem ======\n",
      "\n",
      "\n"
     ]
    }
   ],
   "source": [
    "from collections import deque\n",
    "import time\n",
    "\n",
    "def bfs_shortest_path(graph, start, goal):\n",
    "    queue = deque([(start, [start])])\n",
    "    visited = set()\n",
    "\n",
    "    print(f\"Info[0] queue:{queue} , visited:{visited}\")\n",
    "    while queue:\n",
    "        current_node, path = queue.popleft()\n",
    "        time.sleep(2)\n",
    "        # Clear the line and flush immediately.\n",
    "        #print(f\"\\rInfo[1] ,current_note:{current_node}, current_path:{path}, remain_queue:{queue} , visited:{sorted(list(visited))}        \", end=\"\", flush=True)\n",
    "        print(f\"Info[1] ,current_note:{current_node}, current_path:{path}, remain_queue:{queue} , visited:{sorted(list(visited))}        \")\n",
    "\n",
    "        if current_node == goal:\n",
    "            return path\n",
    "        for neighbor in graph[current_node]:\n",
    "            if neighbor not in visited:\n",
    "                visited.add(neighbor)\n",
    "                queue.append((neighbor, path + [neighbor]))\n",
    "\n",
    "    return None\n",
    "\n",
    "# Example network graph\n",
    "graph = {\n",
    "    'A': ['B', 'C'],\n",
    "    'B': ['D', 'E'],\n",
    "    'C': ['F', 'G'],\n",
    "    'D': ['H'],\n",
    "    'E': ['F'],\n",
    "    'F': ['C'],\n",
    "    'G': ['G'],\n",
    "    'H': []\n",
    "}\n",
    "\n",
    "start_node = 'A'\n",
    "end_node = 'H'\n",
    "shortest_path = bfs_shortest_path(graph, start_node, end_node)\n",
    "print(\"\\n\\nShortest path from node A to H:\\n\", shortest_path)\n",
    "print(\"\\n===== end of BFS shortest-path problem ======\\n\\n\")\n"
   ]
  },
  {
   "cell_type": "code",
   "execution_count": null,
   "id": "d928bfde-316c-44e9-a4f5-60526cea4237",
   "metadata": {},
   "outputs": [],
   "source": []
  },
  {
   "cell_type": "code",
   "execution_count": null,
   "id": "8469d543-da3f-4357-809d-a925e50ad0e3",
   "metadata": {},
   "outputs": [],
   "source": []
  },
  {
   "cell_type": "code",
   "execution_count": null,
   "id": "8c2fd1e1-0a12-4ac9-9bce-b9e497475669",
   "metadata": {},
   "outputs": [],
   "source": []
  },
  {
   "cell_type": "code",
   "execution_count": null,
   "id": "c502ee68-78f8-4487-950b-0ee2a034070f",
   "metadata": {},
   "outputs": [],
   "source": []
  },
  {
   "cell_type": "code",
   "execution_count": null,
   "id": "4ab572dd-bbd4-49b7-a581-f4889ca30293",
   "metadata": {},
   "outputs": [],
   "source": []
  },
  {
   "cell_type": "code",
   "execution_count": null,
   "id": "ece37f02-bf7c-4db9-abee-45eb21c4b2b1",
   "metadata": {},
   "outputs": [],
   "source": []
  },
  {
   "cell_type": "code",
   "execution_count": null,
   "id": "fa0da699-b899-4907-ac5b-8e2231cad55f",
   "metadata": {},
   "outputs": [],
   "source": []
  }
 ],
 "metadata": {
  "kernelspec": {
   "display_name": "Python (my_env)",
   "language": "python",
   "name": "myenv"
  },
  "language_info": {
   "codemirror_mode": {
    "name": "ipython",
    "version": 3
   },
   "file_extension": ".py",
   "mimetype": "text/x-python",
   "name": "python",
   "nbconvert_exporter": "python",
   "pygments_lexer": "ipython3",
   "version": "3.8.2rc2"
  }
 },
 "nbformat": 4,
 "nbformat_minor": 5
}
